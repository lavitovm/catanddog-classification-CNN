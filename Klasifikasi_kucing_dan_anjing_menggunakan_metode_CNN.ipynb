{
  "nbformat": 4,
  "nbformat_minor": 0,
  "metadata": {
    "colab": {
      "provenance": [],
      "authorship_tag": "ABX9TyM4rOeiNHoki4X202s+QSWm",
      "include_colab_link": true
    },
    "kernelspec": {
      "name": "python3",
      "display_name": "Python 3"
    },
    "language_info": {
      "name": "python"
    }
  },
  "cells": [
    {
      "cell_type": "markdown",
      "metadata": {
        "id": "view-in-github",
        "colab_type": "text"
      },
      "source": [
        "<a href=\"https://colab.research.google.com/github/lavitovm/catanddog-classification-CNN/blob/main/Klasifikasi_kucing_dan_anjing_menggunakan_metode_CNN.ipynb\" target=\"_parent\"><img src=\"https://colab.research.google.com/assets/colab-badge.svg\" alt=\"Open In Colab\"/></a>"
      ]
    },
    {
      "cell_type": "code",
      "execution_count": 1,
      "metadata": {
        "colab": {
          "base_uri": "https://localhost:8080/"
        },
        "id": "glcyCTlp9ReP",
        "outputId": "93503c23-d827-443a-97d4-c5c01f0031fa"
      },
      "outputs": [
        {
          "output_type": "stream",
          "name": "stdout",
          "text": [
            "Mounted at /content/drive\n"
          ]
        }
      ],
      "source": [
        "from google.colab import drive\n",
        "import os\n",
        "\n",
        "drive.mount('/content/drive')"
      ]
    },
    {
      "cell_type": "code",
      "source": [
        "base_dir = '/content/drive/My Drive/dataset/'\n",
        "!ls \"/content/drive/My Drive/dataset/\""
      ],
      "metadata": {
        "colab": {
          "base_uri": "https://localhost:8080/"
        },
        "id": "wV0LabLA_HDs",
        "outputId": "18272d9a-83ea-4d0e-bb5f-231d1500a75b"
      },
      "execution_count": 2,
      "outputs": [
        {
          "output_type": "stream",
          "name": "stdout",
          "text": [
            "bahan  latih  validasi\n"
          ]
        }
      ]
    },
    {
      "cell_type": "code",
      "source": [
        "#Menentukan Direktori\n",
        "bahan_dir = os.path.join(base_dir, 'bahan')\n",
        "train_dir = os.path.join(base_dir, 'latih')\n",
        "validation_dir = os.path.join(base_dir, 'validasi')"
      ],
      "metadata": {
        "id": "9EeN1_dRBvzy"
      },
      "execution_count": 3,
      "outputs": []
    },
    {
      "cell_type": "code",
      "source": [
        "#menentukan direktori isi bahan\n",
        "anjing_dir = os.path.join(bahan_dir, 'Anjing/')\n",
        "kucing_dir = os.path.join(bahan_dir, 'Kucing/')\n",
        "\n",
        "print(\"Jumlah Data Train Tiap Kelas\")\n",
        "print(\"Jumlah Gambar Anjing : \", len(os.listdir(anjing_dir)))\n",
        "print(\"Jumlah Gambar Kucing : \", len(os.listdir(kucing_dir)))"
      ],
      "metadata": {
        "colab": {
          "base_uri": "https://localhost:8080/"
        },
        "id": "igXwpxS7Eltu",
        "outputId": "ef00dd5f-a9d9-4003-d055-0b0e0f13f189"
      },
      "execution_count": 4,
      "outputs": [
        {
          "output_type": "stream",
          "name": "stdout",
          "text": [
            "Jumlah Data Train Tiap Kelas\n",
            "Jumlah Gambar Anjing :  70\n",
            "Jumlah Gambar Kucing :  70\n"
          ]
        }
      ]
    },
    {
      "cell_type": "code",
      "source": [
        "#menentukan direktori isi latih/training\n",
        "train_anjing = os.path.join(train_dir, 'Anjing/')\n",
        "train_kucing = os.path.join(train_dir, 'Kucing/')\n",
        "\n",
        "#menentukan direktori isi validasi\n",
        "validation_anjing = os.path.join(validation_dir, 'Anjing/')\n",
        "validation_kucing = os.path.join(validation_dir, 'Kucing/')"
      ],
      "metadata": {
        "id": "i9D-GX0pE9lw"
      },
      "execution_count": 5,
      "outputs": []
    },
    {
      "cell_type": "markdown",
      "source": [
        "Menyiapkan Dataset"
      ],
      "metadata": {
        "id": "vKXqKEuNFZgt"
      }
    },
    {
      "cell_type": "code",
      "source": [
        "import random\n",
        "from shutil import copyfile\n",
        "\n",
        "def train_val_split(source, train, val, train_ratio):\n",
        "  total_size = len(os.listdir(source))\n",
        "  train_size = int(train_ratio * total_size)\n",
        "  val_size = total_size - train_size\n",
        "\n",
        "  randomized = random.sample(os.listdir(source), total_size)\n",
        "  train_files = randomized[0:train_size]\n",
        "  val_files = randomized[train_size:total_size]\n",
        "\n",
        "  for i in train_files:\n",
        "    i_file = source + i\n",
        "    destination = train + i\n",
        "    copyfile(i_file, destination)\n",
        "\n",
        "  for i in val_files:\n",
        "    i_file = source + i\n",
        "    destination = val + i\n",
        "    copyfile(i_file, destination)\n",
        "\n",
        "#jumlah pembagian data tarining dan testing\n",
        "train_ratio = 0.9\n",
        "\n",
        "#pembagian training dan validasi\n",
        "#Training\n",
        "source_00 = anjing_dir\n",
        "train_00 = train_anjing\n",
        "val_00 = validation_anjing\n",
        "train_val_split(source_00, train_00, val_00, train_ratio)\n",
        "\n",
        "#Validasi\n",
        "source_01 = kucing_dir\n",
        "train_01 = train_kucing\n",
        "val_01 = validation_kucing\n",
        "train_val_split(source_01, train_01, val_01, train_ratio)"
      ],
      "metadata": {
        "id": "atNsZ363FW1e"
      },
      "execution_count": 6,
      "outputs": []
    },
    {
      "cell_type": "code",
      "source": [
        "print(\"jumlah seluruh gambar anjing : \", len(os.listdir(anjing_dir)))\n",
        "print(\"jumlah train anjing : \", len(os.listdir(train_anjing)))\n",
        "print(\"Jumlah Val anjing : \", len(os.listdir(validation_anjing)))"
      ],
      "metadata": {
        "colab": {
          "base_uri": "https://localhost:8080/"
        },
        "id": "97-gw10tF-Jr",
        "outputId": "e8e432af-743b-4eae-b127-a358b345936c"
      },
      "execution_count": 7,
      "outputs": [
        {
          "output_type": "stream",
          "name": "stdout",
          "text": [
            "jumlah seluruh gambar anjing :  70\n",
            "jumlah train anjing :  341\n",
            "Jumlah Val anjing :  348\n"
          ]
        }
      ]
    },
    {
      "cell_type": "markdown",
      "source": [
        "Pre-Processing"
      ],
      "metadata": {
        "id": "ELDxWsRaGQwe"
      }
    },
    {
      "cell_type": "code",
      "source": [
        "import tensorflow as tf\n",
        "from tensorflow.keras.optimizers import Adam\n",
        "from tensorflow.keras.preprocessing.image import ImageDataGenerator"
      ],
      "metadata": {
        "id": "YyTv0loDGS9G"
      },
      "execution_count": 8,
      "outputs": []
    },
    {
      "cell_type": "code",
      "source": [
        "train_datagen = ImageDataGenerator(\n",
        "    rescale = 1./255,\n",
        "    rotation_range = 30,\n",
        "    horizontal_flip = True,\n",
        "    shear_range = 0.3,\n",
        "    fill_mode = 'nearest',\n",
        "    width_shift_range = 0.2,\n",
        "    height_shift_range = 0.2,\n",
        "    zoom_range = 0.1\n",
        ")\n",
        "\n",
        "val_datagen = ImageDataGenerator(\n",
        "    rescale = 1./255,\n",
        "    rotation_range = 30,\n",
        "    horizontal_flip = True,\n",
        "    shear_range = 0.3,\n",
        "    fill_mode = 'nearest',\n",
        "    width_shift_range = 0.2,\n",
        "    height_shift_range = 0.2,\n",
        "    zoom_range = 0.1\n",
        ")"
      ],
      "metadata": {
        "id": "hXxu90O1GXJZ"
      },
      "execution_count": 9,
      "outputs": []
    },
    {
      "cell_type": "markdown",
      "source": [
        "Target"
      ],
      "metadata": {
        "id": "qiwzl3qDGb1t"
      }
    },
    {
      "cell_type": "code",
      "source": [
        "train_generator = train_datagen.flow_from_directory(\n",
        "    train_dir,\n",
        "    target_size = (150,150),\n",
        "    batch_size = 10,\n",
        "    class_mode = 'categorical'\n",
        ")\n",
        "\n",
        "val_generator = val_datagen.flow_from_directory(\n",
        "    validation_dir,\n",
        "    target_size = (150,150),\n",
        "    batch_size = 10,\n",
        "    class_mode = 'categorical'\n",
        ")"
      ],
      "metadata": {
        "colab": {
          "base_uri": "https://localhost:8080/"
        },
        "id": "qfPk0mQbGc4x",
        "outputId": "24a415c6-f36f-4d36-c782-b8d9f9fd84ec"
      },
      "execution_count": 10,
      "outputs": [
        {
          "output_type": "stream",
          "name": "stdout",
          "text": [
            "Found 683 images belonging to 2 classes.\n",
            "Found 697 images belonging to 2 classes.\n"
          ]
        }
      ]
    },
    {
      "cell_type": "code",
      "source": [
        "class myCallback(tf.keras.callbacks.Callback):\n",
        "  def on_epoch_end(self, epoch, logs = {}):\n",
        "    if(logs.get('accuracy') > 0.99):\n",
        "      print(\"\\n Akurasi mencapai 99%\")\n",
        "      self.model.stop_training = True\n",
        "\n",
        "callbacks = myCallback()"
      ],
      "metadata": {
        "id": "LiWlZy5DGj0w"
      },
      "execution_count": 11,
      "outputs": []
    },
    {
      "cell_type": "markdown",
      "source": [
        "Model CNN"
      ],
      "metadata": {
        "id": "Pqn7rkoMGmjh"
      }
    },
    {
      "cell_type": "code",
      "source": [
        "model = tf.keras.models.Sequential([\n",
        "          tf.keras.layers.Conv2D(16, (3, 3), activation = 'relu', input_shape = (150, 150, 3)),\n",
        "          tf.keras.layers.MaxPooling2D(2, 2),\n",
        "          tf.keras.layers.Conv2D(32, (3, 3), activation = 'relu'),\n",
        "          tf.keras.layers.MaxPooling2D(2, 2),\n",
        "          tf.keras.layers.Conv2D(64, (3, 3), activation = 'relu'),\n",
        "          tf.keras.layers.MaxPooling2D(2, 2),\n",
        "          tf.keras.layers.Flatten(),\n",
        "          tf.keras.layers.Dense(200, activation = 'relu'),\n",
        "          tf.keras.layers.Dropout(0.3, seed=112),\n",
        "          tf.keras.layers.Dense(500, activation = 'relu'),\n",
        "          tf.keras.layers.Dropout(0.5, seed=112),\n",
        "          tf.keras.layers.Dense(2, activation = 'sigmoid')\n",
        "])"
      ],
      "metadata": {
        "id": "hoRkn_FVGn6U"
      },
      "execution_count": 12,
      "outputs": []
    },
    {
      "cell_type": "code",
      "source": [
        "model.summary()"
      ],
      "metadata": {
        "colab": {
          "base_uri": "https://localhost:8080/"
        },
        "id": "8EWLrzHjGsaj",
        "outputId": "3238ed9e-6314-4d61-80b6-9ff676f00268"
      },
      "execution_count": 13,
      "outputs": [
        {
          "output_type": "stream",
          "name": "stdout",
          "text": [
            "Model: \"sequential\"\n",
            "_________________________________________________________________\n",
            " Layer (type)                Output Shape              Param #   \n",
            "=================================================================\n",
            " conv2d (Conv2D)             (None, 148, 148, 16)      448       \n",
            "                                                                 \n",
            " max_pooling2d (MaxPooling2D  (None, 74, 74, 16)       0         \n",
            " )                                                               \n",
            "                                                                 \n",
            " conv2d_1 (Conv2D)           (None, 72, 72, 32)        4640      \n",
            "                                                                 \n",
            " max_pooling2d_1 (MaxPooling  (None, 36, 36, 32)       0         \n",
            " 2D)                                                             \n",
            "                                                                 \n",
            " conv2d_2 (Conv2D)           (None, 34, 34, 64)        18496     \n",
            "                                                                 \n",
            " max_pooling2d_2 (MaxPooling  (None, 17, 17, 64)       0         \n",
            " 2D)                                                             \n",
            "                                                                 \n",
            " flatten (Flatten)           (None, 18496)             0         \n",
            "                                                                 \n",
            " dense (Dense)               (None, 200)               3699400   \n",
            "                                                                 \n",
            " dropout (Dropout)           (None, 200)               0         \n",
            "                                                                 \n",
            " dense_1 (Dense)             (None, 500)               100500    \n",
            "                                                                 \n",
            " dropout_1 (Dropout)         (None, 500)               0         \n",
            "                                                                 \n",
            " dense_2 (Dense)             (None, 2)                 1002      \n",
            "                                                                 \n",
            "=================================================================\n",
            "Total params: 3,824,486\n",
            "Trainable params: 3,824,486\n",
            "Non-trainable params: 0\n",
            "_________________________________________________________________\n"
          ]
        }
      ]
    },
    {
      "cell_type": "code",
      "source": [
        "model.compile(loss = 'categorical_crossentropy',\n",
        "              optimizer = 'Adam',\n",
        "              metrics = ['accuracy'])"
      ],
      "metadata": {
        "id": "1XrsD5I1Gvzm"
      },
      "execution_count": 14,
      "outputs": []
    },
    {
      "cell_type": "code",
      "source": [
        "history = model.fit(\n",
        "    train_generator,\n",
        "    steps_per_epoch = 6,\n",
        "    epochs = 25,\n",
        "    validation_data = val_generator,\n",
        "    validation_steps = 1,\n",
        "    verbose = 1,\n",
        "    callbacks = [callbacks]\n",
        ")"
      ],
      "metadata": {
        "colab": {
          "base_uri": "https://localhost:8080/"
        },
        "id": "n0LbHtVcGywl",
        "outputId": "ea33b8ad-a0f9-4f6f-9a4a-e7fd0842c288"
      },
      "execution_count": 15,
      "outputs": [
        {
          "output_type": "stream",
          "name": "stdout",
          "text": [
            "Epoch 1/25\n",
            "6/6 [==============================] - 13s 2s/step - loss: 0.7077 - accuracy: 0.6500 - val_loss: 0.6836 - val_accuracy: 0.6000\n",
            "Epoch 2/25\n",
            "6/6 [==============================] - 11s 2s/step - loss: 0.7601 - accuracy: 0.5000 - val_loss: 0.7061 - val_accuracy: 0.3000\n",
            "Epoch 3/25\n",
            "6/6 [==============================] - 11s 2s/step - loss: 0.6996 - accuracy: 0.5167 - val_loss: 0.7000 - val_accuracy: 0.4000\n",
            "Epoch 4/25\n",
            "6/6 [==============================] - 8s 1s/step - loss: 0.7057 - accuracy: 0.4167 - val_loss: 0.6801 - val_accuracy: 0.5000\n",
            "Epoch 5/25\n",
            "6/6 [==============================] - 9s 2s/step - loss: 0.7064 - accuracy: 0.4333 - val_loss: 0.6942 - val_accuracy: 0.5000\n",
            "Epoch 6/25\n",
            "6/6 [==============================] - 8s 1s/step - loss: 0.6938 - accuracy: 0.5167 - val_loss: 0.6970 - val_accuracy: 0.2000\n",
            "Epoch 7/25\n",
            "6/6 [==============================] - 8s 1s/step - loss: 0.6930 - accuracy: 0.5500 - val_loss: 0.6929 - val_accuracy: 0.5000\n",
            "Epoch 8/25\n",
            "6/6 [==============================] - 8s 1s/step - loss: 0.6940 - accuracy: 0.3833 - val_loss: 0.6919 - val_accuracy: 0.7000\n",
            "Epoch 9/25\n",
            "6/6 [==============================] - 8s 1s/step - loss: 0.6941 - accuracy: 0.4167 - val_loss: 0.6910 - val_accuracy: 0.6000\n",
            "Epoch 10/25\n",
            "6/6 [==============================] - 8s 1s/step - loss: 0.6948 - accuracy: 0.4500 - val_loss: 0.6951 - val_accuracy: 0.4000\n",
            "Epoch 11/25\n",
            "6/6 [==============================] - 7s 1s/step - loss: 0.6932 - accuracy: 0.4333 - val_loss: 0.6930 - val_accuracy: 0.5000\n",
            "Epoch 12/25\n",
            "6/6 [==============================] - 8s 1s/step - loss: 0.6926 - accuracy: 0.5333 - val_loss: 0.6935 - val_accuracy: 0.6000\n",
            "Epoch 13/25\n",
            "6/6 [==============================] - 6s 1s/step - loss: 0.6912 - accuracy: 0.5667 - val_loss: 0.6911 - val_accuracy: 0.6000\n",
            "Epoch 14/25\n",
            "6/6 [==============================] - 7s 1s/step - loss: 0.6909 - accuracy: 0.5000 - val_loss: 0.6943 - val_accuracy: 0.5000\n",
            "Epoch 15/25\n",
            "6/6 [==============================] - 8s 1s/step - loss: 0.6968 - accuracy: 0.4000 - val_loss: 0.6945 - val_accuracy: 0.4000\n",
            "Epoch 16/25\n",
            "6/6 [==============================] - 8s 1s/step - loss: 0.6884 - accuracy: 0.5667 - val_loss: 0.7239 - val_accuracy: 0.1000\n",
            "Epoch 17/25\n",
            "6/6 [==============================] - 6s 1s/step - loss: 0.6919 - accuracy: 0.5000 - val_loss: 0.6603 - val_accuracy: 0.6000\n",
            "Epoch 18/25\n",
            "6/6 [==============================] - 5s 984ms/step - loss: 0.7071 - accuracy: 0.5000 - val_loss: 0.6999 - val_accuracy: 0.5000\n",
            "Epoch 19/25\n",
            "6/6 [==============================] - 6s 1s/step - loss: 0.7087 - accuracy: 0.4167 - val_loss: 0.7227 - val_accuracy: 0.2000\n",
            "Epoch 20/25\n",
            "6/6 [==============================] - 7s 1s/step - loss: 0.6950 - accuracy: 0.5000 - val_loss: 0.6860 - val_accuracy: 0.6000\n",
            "Epoch 21/25\n",
            "6/6 [==============================] - 6s 918ms/step - loss: 0.6871 - accuracy: 0.5833 - val_loss: 0.6939 - val_accuracy: 0.5000\n",
            "Epoch 22/25\n",
            "6/6 [==============================] - 5s 854ms/step - loss: 0.6899 - accuracy: 0.5333 - val_loss: 0.6842 - val_accuracy: 0.6000\n",
            "Epoch 23/25\n",
            "6/6 [==============================] - 6s 1s/step - loss: 0.6915 - accuracy: 0.5167 - val_loss: 0.6660 - val_accuracy: 0.8000\n",
            "Epoch 24/25\n",
            "6/6 [==============================] - 5s 916ms/step - loss: 0.6884 - accuracy: 0.5333 - val_loss: 0.6717 - val_accuracy: 0.7000\n",
            "Epoch 25/25\n",
            "6/6 [==============================] - 4s 700ms/step - loss: 0.6824 - accuracy: 0.6038 - val_loss: 0.6689 - val_accuracy: 0.7000\n"
          ]
        }
      ]
    },
    {
      "cell_type": "markdown",
      "source": [
        "Tingkat akurasi dan loss model"
      ],
      "metadata": {
        "id": "rF6CsbkgG5wc"
      }
    },
    {
      "cell_type": "code",
      "source": [
        "%matplotlib inline\n",
        "\n",
        "import matplotlib.image as mpimg\n",
        "import matplotlib.pyplot as plt\n",
        "\n",
        "acc = history.history['accuracy']\n",
        "val_acc = history.history['val_accuracy']\n",
        "loss = history.history['loss']\n",
        "val_loss = history.history['val_loss']\n",
        "\n",
        "epochs = range(len(acc))\n",
        "\n",
        "plt.plot(epochs, acc, 'r', label = 'Training Accuracy')\n",
        "plt.plot(epochs, val_acc, 'b', label = 'Validation Accuracy')\n",
        "plt.title('Training and Validation accuracy')\n",
        "plt.legend(loc = 'best')\n",
        "plt.show()\n",
        "\n",
        "plt.plot(epochs, loss, 'r', label = 'Training Loss')\n",
        "plt.plot(epochs, val_loss, 'b', label = 'Validation Loss')\n",
        "plt.title('Training and Validation accuracy')\n",
        "plt.legend(loc = 'best')\n",
        "plt.show()"
      ],
      "metadata": {
        "colab": {
          "base_uri": "https://localhost:8080/",
          "height": 545
        },
        "id": "Kb3fO4CDG0p3",
        "outputId": "14e027ef-e9db-4952-8186-c5a7bc160441"
      },
      "execution_count": 16,
      "outputs": [
        {
          "output_type": "display_data",
          "data": {
            "text/plain": [
              "<Figure size 432x288 with 1 Axes>"
            ],
            "image/png": "[encoded data removed]"
          },
          "metadata": {
            "needs_background": "light"
          }
        },
        {
          "output_type": "display_data",
          "data": {
            "text/plain": [
              "<Figure size 432x288 with 1 Axes>"
            ],
            "image/png": "[encoded data removed]"
          },
          "metadata": {
            "needs_background": "light"
          }
        }
      ]
    },
    {
      "cell_type": "markdown",
      "source": [
        "Klasifikasi"
      ],
      "metadata": {
        "id": "TXfmpxmDH3zF"
      }
    },
    {
      "cell_type": "code",
      "source": [
        "import numpy as np\n",
        "from keras.preprocessing import image\n",
        "from google.colab import files\n",
        "\n",
        "uploaded = files.upload()\n",
        "\n",
        "for fn in uploaded.keys():\n",
        "\n",
        "  path = fn\n",
        "  img = tf.keras.utils.load_img(path, target_size = (150, 150))\n",
        "  imgplot = plt.imshow(img)\n",
        "  x = tf.keras.utils.img_to_array(img)\n",
        "  x = np.expand_dims(x, axis = 0)\n",
        "\n",
        "  images = np.vstack([x])\n",
        "  classes = model.predict(images, batch_size = 100)\n",
        "\n",
        "  print(fn)\n",
        "\n",
        "  class_list = os.listdir(train_dir)\n",
        "\n",
        "  for j in range(43):\n",
        "    if classes[0][j] == 1. :\n",
        "      print('This image belongs to class', class_list[j-1])\n",
        "      break"
      ],
      "metadata": {
        "id": "vxQ8NTFbQzst"
      },
      "execution_count": null,
      "outputs": []
    }
  ]
}